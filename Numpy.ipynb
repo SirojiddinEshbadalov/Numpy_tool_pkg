{
 "cells": [
  {
   "cell_type": "markdown",
   "id": "3711b5e8",
   "metadata": {},
   "source": [
    "<img src=\"numpy1.jpg\" style=\"width:500px;height:200px\"/>"
   ]
  },
  {
   "cell_type": "markdown",
   "id": "074d7ece",
   "metadata": {},
   "source": [
    "<h1> Tools-numpy</h1>"
   ]
  },
  {
   "cell_type": "markdown",
   "id": "4dd5d9e8",
   "metadata": {},
   "source": [
    "<em>NumPy is the fundamental library for scientific computing with Python. NumPy is centered around a powerful N-dimensional array object, and it also contains useful linear algebra, Fourier transform, and random number functions.</em>"
   ]
  },
  {
   "cell_type": "markdown",
   "id": "aa374994",
   "metadata": {},
   "source": [
    "<h4>Uz:</h4><em><font color='#663399'>NumPy Python bilan ilmiy hisoblash uchun asosiy kutubxona hisoblanadi. NumPy kuchli N oʻlchamli massiv obyekti atrofida joylashgan boʻlib, unda foydali chiziqli algebra, Furye transformatsiyasi va tasodifiy sonlar funksiyalari ham mavjud.</font></em>"
   ]
  },
  {
   "cell_type": "code",
   "execution_count": null,
   "id": "c3878ba5",
   "metadata": {},
   "outputs": [],
   "source": []
  }
 ],
 "metadata": {
  "kernelspec": {
   "display_name": "Python 3 (ipykernel)",
   "language": "python",
   "name": "python3"
  },
  "language_info": {
   "codemirror_mode": {
    "name": "ipython",
    "version": 3
   },
   "file_extension": ".py",
   "mimetype": "text/x-python",
   "name": "python",
   "nbconvert_exporter": "python",
   "pygments_lexer": "ipython3",
   "version": "3.10.9"
  }
 },
 "nbformat": 4,
 "nbformat_minor": 5
}
